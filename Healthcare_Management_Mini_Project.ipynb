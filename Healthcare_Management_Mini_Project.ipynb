{
 "cells": [
  {
   "cell_type": "markdown",
   "id": "8162092f",
   "metadata": {},
   "source": [
    "# Mini Project: Healthcare Management System"
   ]
  },
  {
   "cell_type": "markdown",
   "id": "73e50187",
   "metadata": {},
   "source": [
    "## Project Overview"
   ]
  },
  {
   "cell_type": "markdown",
   "id": "ec062987",
   "metadata": {},
   "source": [
    "This project demonstrates the use of Object-Oriented Programming (OOP) concepts to build a simple healthcare management system."
   ]
  },
  {
   "cell_type": "code",
   "execution_count": null,
   "id": "02dd3ec6",
   "metadata": {},
   "outputs": [],
   "source": [
    "\n",
    "class Person:\n",
    "    def __init__(self, name, age):\n",
    "        self.name = name\n",
    "        self.age = age\n",
    "\n",
    "    def get_details(self):\n",
    "        return f\"Name: {self.name}, Age: {self.age}\"\n"
   ]
  },
  {
   "cell_type": "code",
   "execution_count": null,
   "id": "834e1c8e",
   "metadata": {},
   "outputs": [],
   "source": [
    "\n",
    "class Patient(Person):\n",
    "    def __init__(self, name, age, patient_id, condition):\n",
    "        super().__init__(name, age)\n",
    "        self.patient_id = patient_id\n",
    "        self.condition = condition\n",
    "        self.visits = []\n",
    "\n",
    "    def add_visit(self, doctor_name, date):\n",
    "        self.visits.append((doctor_name, date))\n",
    "\n",
    "    def get_patient_details(self):\n",
    "        details = super().get_details()\n",
    "        visit_info = \"\\n\".join([f\"Visited Dr. {v[0]} on {v[1]}\" for v in self.visits])\n",
    "        return f\"{details}, Patient ID: {self.patient_id}, Condition: {self.condition}\\nVisits:\\n{visit_info or 'No visits recorded.'}\"\n"
   ]
  },
  {
   "cell_type": "code",
   "execution_count": null,
   "id": "c75338b3",
   "metadata": {},
   "outputs": [],
   "source": [
    "\n",
    "class Doctor(Person):\n",
    "    def __init__(self, name, age, specialization):\n",
    "        super().__init__(name, age)\n",
    "        self.specialization = specialization\n",
    "\n",
    "    def get_details(self):\n",
    "        details = super().get_details()\n",
    "        return f\"{details}, Specialization: {self.specialization}\"\n"
   ]
  },
  {
   "cell_type": "code",
   "execution_count": null,
   "id": "facd83ed",
   "metadata": {},
   "outputs": [],
   "source": [
    "\n",
    "class Prescription:\n",
    "    def __init__(self, patient_id, doctor_name, medication_list):\n",
    "        self.patient_id = patient_id\n",
    "        self.doctor_name = doctor_name\n",
    "        self.medication_list = medication_list\n",
    "\n",
    "    def get_prescription_details(self):\n",
    "        meds = \"\\n\".join(self.medication_list)\n",
    "        return f\"Prescribed by Dr. {self.doctor_name} for Patient ID: {self.patient_id}\\nMedications:\\n{meds}\"\n"
   ]
  },
  {
   "cell_type": "code",
   "execution_count": null,
   "id": "77c040da",
   "metadata": {},
   "outputs": [],
   "source": [
    "\n",
    "# Creating doctor instances\n",
    "doctor1 = Doctor(\"Dr. Smith\", 45, \"Cardiology\")\n",
    "doctor2 = Doctor(\"Dr. Jane\", 38, \"Pediatrics\")\n",
    "\n",
    "# Creating patient instances\n",
    "patient1 = Patient(\"Alice\", 30, \"P001\", \"Hypertension\")\n",
    "patient2 = Patient(\"Bob\", 10, \"P002\", \"Fever\")\n",
    "\n",
    "# Logging visits\n",
    "patient1.add_visit(\"Dr. Smith\", \"2024-12-10\")\n",
    "patient2.add_visit(\"Dr. Jane\", \"2024-12-11\")\n",
    "\n",
    "# Creating prescriptions\n",
    "prescription1 = Prescription(\"P001\", \"Dr. Smith\", [\"Aspirin\", \"Lisinopril\"])\n",
    "prescription2 = Prescription(\"P002\", \"Dr. Jane\", [\"Paracetamol\", \"Ibuprofen\"])\n",
    "\n",
    "# Displaying data\n",
    "print(doctor1.get_details())\n",
    "print(doctor2.get_details())\n",
    "\n",
    "print(patient1.get_patient_details())\n",
    "print(patient2.get_patient_details())\n",
    "\n",
    "print(prescription1.get_prescription_details())\n",
    "print(prescription2.get_prescription_details())\n"
   ]
  }
 ],
 "metadata": {},
 "nbformat": 4,
 "nbformat_minor": 5
}
