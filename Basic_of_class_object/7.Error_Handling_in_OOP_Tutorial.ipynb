{
 "cells": [
  {
   "cell_type": "markdown",
   "id": "d58149fd",
   "metadata": {},
   "source": [
    "# Error Handling in OOP"
   ]
  },
  {
   "cell_type": "markdown",
   "id": "cb8f367c",
   "metadata": {},
   "source": [
    "## Introduction"
   ]
  },
  {
   "cell_type": "markdown",
   "id": "98601e7d",
   "metadata": {},
   "source": [
    "Error handling is crucial in software development to ensure programs can handle unexpected situations gracefully."
   ]
  },
  {
   "cell_type": "code",
   "execution_count": null,
   "id": "0e15a1c7",
   "metadata": {},
   "outputs": [],
   "source": [
    "\n",
    "class FileHandler:\n",
    "    def __init__(self, filename):\n",
    "        self.filename = filename\n",
    "\n",
    "    def read_file(self):\n",
    "        try:\n",
    "            with open(self.filename, 'r') as file:\n",
    "                return file.read()\n",
    "        except FileNotFoundError:\n",
    "            return \"File not found.\"\n",
    "        finally:\n",
    "            print(\"File operation attempted.\")\n",
    "\n",
    "# Testing the FileHandler class\n",
    "file_handler = FileHandler(\"nonexistent.txt\")\n",
    "print(file_handler.read_file())\n"
   ]
  },
  {
   "cell_type": "code",
   "execution_count": null,
   "id": "0e8fb37c",
   "metadata": {},
   "outputs": [],
   "source": [
    "\n",
    "class InvalidAgeError(Exception):\n",
    "    \"\"\"Exception raised for invalid age.\"\"\"\n",
    "    def __init__(self, age, message=\"Age must be 18 or above.\"):\n",
    "        self.age = age\n",
    "        self.message = message\n",
    "        super().__init__(self.message)\n",
    "\n",
    "class AgeValidator:\n",
    "    def __init__(self, age):\n",
    "        self.age = age\n",
    "\n",
    "    def validate_age(self):\n",
    "        try:\n",
    "            if self.age < 18:\n",
    "                raise InvalidAgeError(self.age)\n",
    "            return \"Age is valid.\"\n",
    "        except InvalidAgeError as e:\n",
    "            return f\"InvalidAgeError: {e.message} (Age provided: {e.age})\"\n",
    "        finally:\n",
    "            print(\"Age validation completed.\")\n",
    "\n",
    "# Testing the AgeValidator class\n",
    "validator1 = AgeValidator(20)\n",
    "print(validator1.validate_age())  # Age is valid.\n",
    "\n",
    "validator2 = AgeValidator(16)\n",
    "print(validator2.validate_age())  # InvalidAgeError\n"
   ]
  },
  {
   "cell_type": "code",
   "execution_count": null,
   "id": "77c2ec8c",
   "metadata": {},
   "outputs": [],
   "source": [
    "\n",
    "class InsufficientFundsError(Exception):\n",
    "    \"\"\"Exception raised for insufficient funds.\"\"\"\n",
    "    def __init__(self, balance, amount, message=\"Insufficient funds for withdrawal.\"):\n",
    "        self.balance = balance\n",
    "        self.amount = amount\n",
    "        self.message = message\n",
    "        super().__init__(self.message)\n",
    "\n",
    "class BankAccount:\n",
    "    def __init__(self, owner, balance):\n",
    "        self.owner = owner\n",
    "        self.balance = balance\n",
    "\n",
    "    def withdraw(self, amount):\n",
    "        try:\n",
    "            if amount > self.balance:\n",
    "                raise InsufficientFundsError(self.balance, amount)\n",
    "            self.balance -= amount\n",
    "            return f\"Withdrawal successful. Remaining balance: ${self.balance}\"\n",
    "        except InsufficientFundsError as e:\n",
    "            return f\"InsufficientFundsError: {e.message} (Balance: ${e.balance}, Withdrawal: ${e.amount})\"\n",
    "        finally:\n",
    "            print(f\"Transaction attempted for {self.owner}.\")\n",
    "\n",
    "# Testing the BankAccount class\n",
    "account = BankAccount(\"John Doe\", 500)\n",
    "\n",
    "# Successful transaction\n",
    "print(account.withdraw(100))\n",
    "\n",
    "# Failed transaction\n",
    "print(account.withdraw(600))\n"
   ]
  }
 ],
 "metadata": {},
 "nbformat": 4,
 "nbformat_minor": 5
}
