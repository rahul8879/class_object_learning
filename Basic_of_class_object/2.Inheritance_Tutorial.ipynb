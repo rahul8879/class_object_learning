{
 "cells": [
  {
   "cell_type": "markdown",
   "id": "adfc5d09",
   "metadata": {},
   "source": [
    "# Python Inheritance Tutorial"
   ]
  },
  {
   "cell_type": "markdown",
   "id": "8fa19ffb",
   "metadata": {},
   "source": [
    "## Topics Covered"
   ]
  },
  {
   "cell_type": "markdown",
   "id": "80efe955",
   "metadata": {},
   "source": [
    "\n",
    "1. Single Inheritance\n",
    "2. Multilevel Inheritance\n",
    "3. Hierarchical Inheritance\n",
    "4. `super()` function\n",
    "\n",
    "---\n",
    "\n",
    "### Practice Questions:\n",
    "1. Create a class `Animal` with a method `speak`. Create a subclass `Dog` that overrides the `speak` method to say `\"Bark\"`.\n",
    "2. Write a program with a base class `Vehicle` and subclasses `Car` and `Bike`. Each subclass should have a specific method related to it.\n"
   ]
  },
  {
   "cell_type": "markdown",
   "id": "116dae80",
   "metadata": {},
   "source": [
    "## Single Inheritance"
   ]
  },
  {
   "cell_type": "code",
   "execution_count": null,
   "id": "9cde05c3",
   "metadata": {},
   "outputs": [],
   "source": [
    "\n",
    "# Example: Single Inheritance\n",
    "\n",
    "class Parent:\n",
    "    def greet(self):\n",
    "        print(\"Hello from Parent!\")\n",
    "\n",
    "class Child(Parent):\n",
    "    def child_greet(self):\n",
    "        print(\"Hello from Child!\")\n",
    "\n",
    "# Demonstration\n",
    "child = Child()\n",
    "child.greet()  # Inherited from Parent\n",
    "child.child_greet()  # Specific to Child\n"
   ]
  },
  {
   "cell_type": "markdown",
   "id": "da6b00fa",
   "metadata": {},
   "source": [
    "## Multilevel Inheritance"
   ]
  },
  {
   "cell_type": "code",
   "execution_count": null,
   "id": "f5aa66ab",
   "metadata": {},
   "outputs": [],
   "source": [
    "\n",
    "# Example: Multilevel Inheritance\n",
    "\n",
    "class Grandparent:\n",
    "    def greet(self):\n",
    "        print(\"Hello from Grandparent!\")\n",
    "\n",
    "class Parent(Grandparent):\n",
    "    def parent_greet(self):\n",
    "        print(\"Hello from Parent!\")\n",
    "\n",
    "class Child(Parent):\n",
    "    def child_greet(self):\n",
    "        print(\"Hello from Child!\")\n",
    "\n",
    "# Demonstration\n",
    "child = Child()\n",
    "child.greet()  # Inherited from Grandparent\n",
    "child.parent_greet()  # Inherited from Parent\n",
    "child.child_greet()  # Specific to Child\n"
   ]
  },
  {
   "cell_type": "markdown",
   "id": "64afc3e8",
   "metadata": {},
   "source": [
    "## Hierarchical Inheritance"
   ]
  },
  {
   "cell_type": "code",
   "execution_count": null,
   "id": "16a324f0",
   "metadata": {},
   "outputs": [],
   "source": [
    "\n",
    "# Example: Hierarchical Inheritance\n",
    "\n",
    "class Parent:\n",
    "    def greet(self):\n",
    "        print(\"Hello from Parent!\")\n",
    "\n",
    "class Child1(Parent):\n",
    "    def child1_greet(self):\n",
    "        print(\"Hello from Child1!\")\n",
    "\n",
    "class Child2(Parent):\n",
    "    def child2_greet(self):\n",
    "        print(\"Hello from Child2!\")\n",
    "\n",
    "# Demonstration\n",
    "child1 = Child1()\n",
    "child2 = Child2()\n",
    "\n",
    "child1.greet()  # Inherited from Parent\n",
    "child1.child1_greet()  # Specific to Child1\n",
    "\n",
    "child2.greet()  # Inherited from Parent\n",
    "child2.child2_greet()  # Specific to Child2\n"
   ]
  },
  {
   "cell_type": "markdown",
   "id": "7d6c1acd",
   "metadata": {},
   "source": [
    "## `super()` Function"
   ]
  },
  {
   "cell_type": "code",
   "execution_count": null,
   "id": "02e977e9",
   "metadata": {},
   "outputs": [],
   "source": [
    "\n",
    "# Example: Using `super()` Function\n",
    "\n",
    "class Parent:\n",
    "    def __init__(self, name):\n",
    "        self.name = name\n",
    "\n",
    "    def greet(self):\n",
    "        print(f\"Hello, I am {self.name} from Parent!\")\n",
    "\n",
    "class Child(Parent):\n",
    "    def __init__(self, name, age):\n",
    "        super().__init__(name)  # Call Parent's __init__\n",
    "        self.age = age\n",
    "\n",
    "    def greet(self):\n",
    "        super().greet()  # Call Parent's greet\n",
    "        print(f\"I am {self.age} years old from Child!\")\n",
    "\n",
    "# Demonstration\n",
    "child = Child(\"Rahul\", 25)\n",
    "child.greet()\n"
   ]
  },
  {
   "cell_type": "markdown",
   "id": "42f78362",
   "metadata": {},
   "source": [
    "## Practice Question 1: Animal and Dog Classes"
   ]
  },
  {
   "cell_type": "code",
   "execution_count": null,
   "id": "1f00fb95",
   "metadata": {},
   "outputs": [],
   "source": [
    "\n",
    "# Practice Question 1\n",
    "\n",
    "class Animal:\n",
    "    def speak(self):\n",
    "        print(\"Animal speaks\")\n",
    "\n",
    "class Dog(Animal):\n",
    "    def speak(self):\n",
    "        print(\"Bark\")\n",
    "\n",
    "# Demonstration\n",
    "dog = Dog()\n",
    "dog.speak()  # Overrides Animal's speak method\n"
   ]
  },
  {
   "cell_type": "markdown",
   "id": "cb1da7a9",
   "metadata": {},
   "source": [
    "## Practice Question 2: Vehicle, Car, and Bike Classes"
   ]
  },
  {
   "cell_type": "code",
   "execution_count": null,
   "id": "ef032874",
   "metadata": {},
   "outputs": [],
   "source": [
    "\n",
    "# Practice Question 2\n",
    "\n",
    "class Vehicle:\n",
    "    def drive(self):\n",
    "        print(\"Vehicle is driving\")\n",
    "\n",
    "class Car(Vehicle):\n",
    "    def air_condition(self):\n",
    "        print(\"Car has air conditioning\")\n",
    "\n",
    "class Bike(Vehicle):\n",
    "    def two_wheeler(self):\n",
    "        print(\"Bike is a two-wheeler\")\n",
    "\n",
    "# Demonstration\n",
    "car = Car()\n",
    "bike = Bike()\n",
    "\n",
    "car.drive()  # Inherited from Vehicle\n",
    "car.air_condition()  # Specific to Car\n",
    "\n",
    "bike.drive()  # Inherited from Vehicle\n",
    "bike.two_wheeler()  # Specific to Bike\n"
   ]
  }
 ],
 "metadata": {},
 "nbformat": 4,
 "nbformat_minor": 5
}
