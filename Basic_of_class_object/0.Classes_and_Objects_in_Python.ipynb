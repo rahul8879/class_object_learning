{
 "cells": [
  {
   "cell_type": "markdown",
   "id": "87722c9a",
   "metadata": {},
   "source": [
    "# Classes in Python"
   ]
  },
  {
   "cell_type": "markdown",
   "id": "bcae789a",
   "metadata": {},
   "source": [
    "\n",
    "## 1. What is a Class?\n",
    "A class is a blueprint for creating objects. It defines a set of attributes (variables) and methods (functions) that the objects created from the class can have. Classes allow us to group related data and behavior into a single unit.\n",
    "\n",
    "### Example:\n",
    "A `Car` class might include attributes like `make`, `model`, and `year` and methods like `start_engine()` and `stop_engine()`.\n"
   ]
  },
  {
   "cell_type": "markdown",
   "id": "fce1f0ff",
   "metadata": {},
   "source": [
    "\n",
    "## 2. How to Define a Class\n",
    "In Python, a class is defined using the `class` keyword followed by the class name and a colon.\n",
    "\n",
    "### Syntax:\n",
    "```python\n",
    "class ClassName:\n",
    "    # class body\n",
    "    pass\n",
    "```\n"
   ]
  },
  {
   "cell_type": "markdown",
   "id": "e5979c62",
   "metadata": {},
   "source": [
    "\n",
    "## 3. Creating Objects\n",
    "Objects are instances of a class. Once a class is defined, we can create objects of that class.\n"
   ]
  },
  {
   "cell_type": "markdown",
   "id": "6a766adb",
   "metadata": {},
   "source": [
    "\n",
    "## 4. Accessing Attributes and Methods\n",
    "Use the dot (`.`) operator to access an object's attributes and methods.\n"
   ]
  },
  {
   "cell_type": "markdown",
   "id": "9bfc5741",
   "metadata": {},
   "source": [
    "\n",
    "## 5. The `__init__` Method (Constructor)\n",
    "The `__init__` method initializes an object's attributes when it is created. It is called automatically when a new object is created.\n",
    "\n",
    "### Syntax:\n",
    "```python\n",
    "class ClassName:\n",
    "    def __init__(self, arg1, arg2, ...):\n",
    "        self.attr1 = arg1\n",
    "        self.attr2 = arg2\n",
    "```\n"
   ]
  },
  {
   "cell_type": "markdown",
   "id": "cfdba5cf",
   "metadata": {},
   "source": [
    "## Example: Defining and Using a Class"
   ]
  },
  {
   "cell_type": "code",
   "execution_count": null,
   "id": "a448e2f8",
   "metadata": {},
   "outputs": [],
   "source": [
    "\n",
    "class Car:\n",
    "    def __init__(self, make, model, year):\n",
    "        self.make = make  # Attribute\n",
    "        self.model = model\n",
    "        self.year = year\n",
    "\n",
    "    def start_engine(self):  # Method\n",
    "        print(f\"{self.year} {self.make} {self.model}'s engine started!\")\n",
    "\n",
    "    def stop_engine(self):  # Method\n",
    "        print(f\"{self.year} {self.make} {self.model}'s engine stopped.\")\n"
   ]
  },
  {
   "cell_type": "code",
   "execution_count": null,
   "id": "268fe059",
   "metadata": {},
   "outputs": [],
   "source": [
    "\n",
    "# Create objects\n",
    "car1 = Car(\"Toyota\", \"Camry\", 2020)\n",
    "car2 = Car(\"Honda\", \"Civic\", 2021)\n",
    "\n",
    "# Access attributes and methods\n",
    "print(car1.make)  # Output: Toyota\n",
    "car1.start_engine()  # Output: 2020 Toyota Camry's engine started!\n",
    "\n",
    "print(car2.model)  # Output: Civic\n",
    "car2.stop_engine()  # Output: 2021 Honda Civic's engine stopped.\n"
   ]
  },
  {
   "cell_type": "markdown",
   "id": "818f533f",
   "metadata": {},
   "source": [
    "## Practice Questions"
   ]
  },
  {
   "cell_type": "markdown",
   "id": "4b9ab9ac",
   "metadata": {},
   "source": [
    "### 1. Create a `Student` class"
   ]
  },
  {
   "cell_type": "code",
   "execution_count": null,
   "id": "a33c5109",
   "metadata": {},
   "outputs": [],
   "source": [
    "\n",
    "class Student:\n",
    "    def __init__(self, name, roll_number):\n",
    "        self.name = name\n",
    "        self.roll_number = roll_number\n",
    "\n",
    "    def display(self):\n",
    "        print(f\"Student Name: {self.name}\")\n",
    "        print(f\"Roll Number: {self.roll_number}\")\n"
   ]
  },
  {
   "cell_type": "code",
   "execution_count": null,
   "id": "f7c0dc3a",
   "metadata": {},
   "outputs": [],
   "source": [
    "\n",
    "# Create an object of the Student class\n",
    "student1 = Student(\"Rahul\", 101)\n",
    "student1.display()\n"
   ]
  },
  {
   "cell_type": "markdown",
   "id": "ca59d42f",
   "metadata": {},
   "source": [
    "### 2. Create a `Book` class"
   ]
  },
  {
   "cell_type": "code",
   "execution_count": null,
   "id": "6f237c60",
   "metadata": {},
   "outputs": [],
   "source": [
    "\n",
    "class Book:\n",
    "    def __init__(self, title, author, price):\n",
    "        self.title = title\n",
    "        self.author = author\n",
    "        self.price = price\n",
    "\n",
    "    def display_details(self):\n",
    "        print(f\"Title: {self.title}\")\n",
    "        print(f\"Author: {self.author}\")\n",
    "        print(f\"Price: ${self.price:.2f}\")\n",
    "\n",
    "    def update_price(self, new_price):\n",
    "        self.price = new_price\n",
    "        print(f\"Price updated to ${self.price:.2f}\")\n"
   ]
  },
  {
   "cell_type": "code",
   "execution_count": null,
   "id": "50e63c6f",
   "metadata": {},
   "outputs": [],
   "source": [
    "\n",
    "# Create an object of the Book class\n",
    "book1 = Book(\"Python Programming\", \"John Doe\", 29.99)\n",
    "book1.display_details()\n",
    "\n",
    "# Update the price\n",
    "book1.update_price(34.99)\n",
    "book1.display_details()\n"
   ]
  }
 ],
 "metadata": {},
 "nbformat": 4,
 "nbformat_minor": 5
}