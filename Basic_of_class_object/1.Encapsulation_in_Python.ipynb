{
 "cells": [
  {
   "cell_type": "markdown",
   "id": "173154b7",
   "metadata": {},
   "source": [
    "# Encapsulation in Python"
   ]
  },
  {
   "cell_type": "markdown",
   "id": "a5022765",
   "metadata": {},
   "source": [
    "\n",
    "## What is Encapsulation?\n",
    "Encapsulation is one of the fundamental principles of object-oriented programming (OOP). It refers to the bundling of data (attributes) and methods (functions) that operate on the data into a single unit, i.e., a class. Encapsulation also involves restricting access to certain details of an object to protect the integrity of the data.\n",
    "\n",
    "### Key Features of Encapsulation:\n",
    "1. **Public Attributes:** Accessible from anywhere.\n",
    "2. **Protected Attributes:** Indicated by a single underscore (`_`) and accessible within the class and its subclasses.\n",
    "3. **Private Attributes:** Indicated by a double underscore (`__`) and not directly accessible outside the class.\n",
    "\n"
   ]
  },
  {
   "cell_type": "markdown",
   "id": "d25f1fe2",
   "metadata": {},
   "source": [
    "\n",
    "## Public, Protected, and Private Attributes\n",
    "\n",
    "### Syntax:\n",
    "```python\n",
    "class ClassName:\n",
    "    def __init__(self):\n",
    "        self.public_attribute = \"Accessible Everywhere\"\n",
    "        self._protected_attribute = \"Accessible in Class and Subclasses\"\n",
    "        self.__private_attribute = \"Accessible Only in Class\"\n",
    "```\n"
   ]
  },
  {
   "cell_type": "code",
   "execution_count": null,
   "id": "0c520a0c",
   "metadata": {},
   "outputs": [],
   "source": [
    "\n",
    "class Example:\n",
    "    def __init__(self):\n",
    "        self.public_attribute = \"I am public\"\n",
    "        self._protected_attribute = \"I am protected\"\n",
    "        self.__private_attribute = \"I am private\"\n",
    "\n",
    "    def get_private_attribute(self):\n",
    "        return self.__private_attribute\n"
   ]
  },
  {
   "cell_type": "code",
   "execution_count": null,
   "id": "3abe01f4",
   "metadata": {},
   "outputs": [],
   "source": [
    "\n",
    "# Create an object\n",
    "obj = Example()\n",
    "\n",
    "# Access attributes\n",
    "print(obj.public_attribute)  # Public attribute\n",
    "print(obj._protected_attribute)  # Protected attribute (accessible, but not recommended)\n",
    "# print(obj.__private_attribute)  # This will raise an AttributeError\n",
    "\n",
    "# Access private attribute using a method\n",
    "print(obj.get_private_attribute())\n"
   ]
  },
  {
   "cell_type": "markdown",
   "id": "a6e6dfaf",
   "metadata": {},
   "source": [
    "\n",
    "## Getters and Setters\n",
    "Getters and setters are methods used to access and modify private attributes while maintaining control over their behavior.\n",
    "\n",
    "### Syntax:\n",
    "```python\n",
    "class ClassName:\n",
    "    def __init__(self):\n",
    "        self.__attribute = value\n",
    "\n",
    "    def get_attribute(self):\n",
    "        return self.__attribute\n",
    "\n",
    "    def set_attribute(self, value):\n",
    "        self.__attribute = value\n",
    "```\n"
   ]
  },
  {
   "cell_type": "code",
   "execution_count": null,
   "id": "878b1697",
   "metadata": {},
   "outputs": [],
   "source": [
    "\n",
    "class Person:\n",
    "    def __init__(self, name):\n",
    "        self.__name = name\n",
    "\n",
    "    def get_name(self):\n",
    "        return self.__name\n",
    "\n",
    "    def set_name(self, name):\n",
    "        self.__name = name\n"
   ]
  },
  {
   "cell_type": "code",
   "execution_count": null,
   "id": "553957c5",
   "metadata": {},
   "outputs": [],
   "source": [
    "\n",
    "# Create an object\n",
    "person = Person(\"John\")\n",
    "\n",
    "# Access name using getter\n",
    "print(person.get_name())\n",
    "\n",
    "# Modify name using setter\n",
    "person.set_name(\"Jane\")\n",
    "print(person.get_name())\n"
   ]
  },
  {
   "cell_type": "markdown",
   "id": "bbac1bbd",
   "metadata": {},
   "source": [
    "\n",
    "## Using the @property Decorator\n",
    "The `@property` decorator provides a Pythonic way to define getters and setters for attributes.\n",
    "\n",
    "### Syntax:\n",
    "```python\n",
    "class ClassName:\n",
    "    def __init__(self, value):\n",
    "        self.__attribute = value\n",
    "\n",
    "    @property\n",
    "    def attribute(self):\n",
    "        return self.__attribute\n",
    "\n",
    "    @attribute.setter\n",
    "    def attribute(self, value):\n",
    "        self.__attribute = value\n",
    "```\n"
   ]
  },
  {
   "cell_type": "code",
   "execution_count": null,
   "id": "dce4eeb4",
   "metadata": {},
   "outputs": [],
   "source": [
    "\n",
    "class Circle:\n",
    "    def __init__(self, radius):\n",
    "        self.__radius = radius\n",
    "\n",
    "    @property\n",
    "    def radius(self):\n",
    "        return self.__radius\n",
    "\n",
    "    @radius.setter\n",
    "    def radius(self, radius):\n",
    "        if radius > 0:\n",
    "            self.__radius = radius\n",
    "        else:\n",
    "            print(\"Radius must be positive!\")\n"
   ]
  },
  {
   "cell_type": "code",
   "execution_count": null,
   "id": "fb2c3c2a",
   "metadata": {},
   "outputs": [],
   "source": [
    "\n",
    "# Create an object\n",
    "circle = Circle(5)\n",
    "\n",
    "# Access radius using property\n",
    "print(circle.radius)\n",
    "\n",
    "# Modify radius using setter\n",
    "circle.radius = 10\n",
    "print(circle.radius)\n",
    "\n",
    "# Attempt to set a negative radius\n",
    "circle.radius = -5\n"
   ]
  },
  {
   "cell_type": "markdown",
   "id": "05dc91db",
   "metadata": {},
   "source": [
    "## Practice Questions"
   ]
  },
  {
   "cell_type": "markdown",
   "id": "ca831ea0",
   "metadata": {},
   "source": [
    "### 1. Create a `BankAccount` class"
   ]
  },
  {
   "cell_type": "code",
   "execution_count": null,
   "id": "e548f22c",
   "metadata": {},
   "outputs": [],
   "source": [
    "\n",
    "class BankAccount:\n",
    "    def __init__(self, account_number, balance):\n",
    "        self.account_number = account_number\n",
    "        self.__balance = balance\n",
    "\n",
    "    def deposit(self, amount):\n",
    "        if amount > 0:\n",
    "            self.__balance += amount\n",
    "            print(f\"Deposited ${amount:.2f}. New balance is ${self.__balance:.2f}\")\n",
    "        else:\n",
    "            print(\"Deposit amount must be positive!\")\n",
    "\n",
    "    def withdraw(self, amount):\n",
    "        if 0 < amount <= self.__balance:\n",
    "            self.__balance -= amount\n",
    "            print(f\"Withdrew ${amount:.2f}. New balance is ${self.__balance:.2f}\")\n",
    "        else:\n",
    "            print(\"Invalid withdrawal amount!\")\n",
    "\n",
    "    def get_balance(self):\n",
    "        return self.__balance\n"
   ]
  },
  {
   "cell_type": "code",
   "execution_count": null,
   "id": "f163ec39",
   "metadata": {},
   "outputs": [],
   "source": [
    "\n",
    "# Create a BankAccount object\n",
    "account = BankAccount(\"123456\", 1000.00)\n",
    "\n",
    "# Deposit and withdraw money\n",
    "account.deposit(500.00)\n",
    "account.withdraw(200.00)\n",
    "print(f\"Final balance: ${account.get_balance():.2f}\")\n"
   ]
  },
  {
   "cell_type": "markdown",
   "id": "396b665c",
   "metadata": {},
   "source": [
    "### 2. Create an `Employee` class"
   ]
  },
  {
   "cell_type": "code",
   "execution_count": null,
   "id": "eb04ab91",
   "metadata": {},
   "outputs": [],
   "source": [
    "\n",
    "class Employee:\n",
    "    def __init__(self, name, salary):\n",
    "        self.name = name\n",
    "        self.__salary = salary\n",
    "\n",
    "    def set_salary(self, salary):\n",
    "        if salary > 0:\n",
    "            self.__salary = salary\n",
    "        else:\n",
    "            print(\"Salary must be positive!\")\n",
    "\n",
    "    def get_salary(self):\n",
    "        return self.__salary\n"
   ]
  },
  {
   "cell_type": "code",
   "execution_count": null,
   "id": "2e2372fe",
   "metadata": {},
   "outputs": [],
   "source": [
    "\n",
    "# Create an Employee object\n",
    "employee = Employee(\"Alice\", 50000)\n",
    "\n",
    "# Access and modify salary\n",
    "print(f\"Current salary: ${employee.get_salary():.2f}\")\n",
    "employee.set_salary(55000)\n",
    "print(f\"Updated salary: ${employee.get_salary():.2f}\")\n",
    "employee.set_salary(-1000)  # Invalid salary update\n"
   ]
  }
 ],
 "metadata": {},
 "nbformat": 4,
 "nbformat_minor": 5
}