{
 "cells": [
  {
   "cell_type": "markdown",
   "id": "d7f097bc",
   "metadata": {},
   "source": [
    "# Mini E-commerce System"
   ]
  },
  {
   "cell_type": "markdown",
   "id": "356cd708",
   "metadata": {},
   "source": [
    "<img src=\"ecommerce_project.png\">"
   ]
  },
  {
   "cell_type": "markdown",
   "id": "89b29315",
   "metadata": {},
   "source": [
    "## Features"
   ]
  },
  {
   "cell_type": "markdown",
   "id": "3ce1219b",
   "metadata": {},
   "source": [
    "\n",
    "1. **Product Management**\n",
    "   - Add, update, and display product details.\n",
    "2. **Cart Management**\n",
    "   - Add items to a cart.\n",
    "   - Display items in the cart.\n",
    "   - Calculate the total price.\n",
    "3. **Order Management**\n",
    "   - Place an order.\n",
    "   - Display order details.\n",
    "4. **User Management**\n",
    "   - Add user details and balance.\n",
    "   - Check user balance during purchases.\n"
   ]
  },
  {
   "cell_type": "markdown",
   "id": "72971793",
   "metadata": {},
   "source": [
    "## Implementation"
   ]
  },
  {
   "cell_type": "code",
   "execution_count": null,
   "id": "4c4c081c",
   "metadata": {},
   "outputs": [],
   "source": [
    "\n",
    "# Product Class\n",
    "class Product:\n",
    "    def __init__(self, product_id, name, price, quantity):\n",
    "        self.product_id = product_id\n",
    "        self.name = name\n",
    "        self.price = price\n",
    "        self.quantity = quantity\n",
    "\n",
    "    def display_product(self):\n",
    "        print(f\"ID: {self.product_id}, Name: {self.name}, Price: {self.price}, Quantity: {self.quantity}\")\n",
    "\n",
    "    def update_quantity(self, quantity):\n",
    "        self.quantity -= quantity\n"
   ]
  },
  {
   "cell_type": "code",
   "execution_count": null,
   "id": "8f8d2aed",
   "metadata": {},
   "outputs": [],
   "source": [
    "\n",
    "# Cart Class\n",
    "class Cart:\n",
    "    def __init__(self):\n",
    "        self.items = {}\n",
    "\n",
    "    def add_to_cart(self, product, quantity):\n",
    "        if product.product_id in self.items:\n",
    "            self.items[product.product_id]['quantity'] += quantity\n",
    "        else:\n",
    "            self.items[product.product_id] = {'product': product, 'quantity': quantity}\n",
    "\n",
    "    def display_cart(self):\n",
    "        print(\"\\nCart Items:\")\n",
    "        for item in self.items.values():\n",
    "            product = item['product']\n",
    "            quantity = item['quantity']\n",
    "            print(f\"{product.name} - {quantity} units at {product.price} each\")\n",
    "\n",
    "    def calculate_total(self):\n",
    "        return sum(item['product'].price * item['quantity'] for item in self.items.values())\n"
   ]
  },
  {
   "cell_type": "code",
   "execution_count": null,
   "id": "47ba9dce",
   "metadata": {},
   "outputs": [],
   "source": [
    "\n",
    "# User Class\n",
    "class User:\n",
    "    def __init__(self, user_id, name, balance):\n",
    "        self.user_id = user_id\n",
    "        self.name = name\n",
    "        self.__balance = balance  # Private attribute\n",
    "\n",
    "    def add_balance(self, amount):\n",
    "        self.__balance += amount\n",
    "\n",
    "    def deduct_balance(self, amount):\n",
    "        if self.__balance >= amount:\n",
    "            self.__balance -= amount\n",
    "            return True\n",
    "        else:\n",
    "            print(\"Insufficient balance!\")\n",
    "            return False\n",
    "\n",
    "    def get_balance(self):\n",
    "        return self.__balance\n"
   ]
  },
  {
   "cell_type": "code",
   "execution_count": null,
   "id": "0cbc32ec",
   "metadata": {},
   "outputs": [],
   "source": [
    "\n",
    "# Order Class\n",
    "class Order:\n",
    "    order_count = 1\n",
    "\n",
    "    def __init__(self, user, cart):\n",
    "        self.order_id = Order.order_count\n",
    "        Order.order_count += 1\n",
    "        self.user = user\n",
    "        self.cart = cart\n",
    "        self.total_amount = cart.calculate_total()\n",
    "\n",
    "    def place_order(self):\n",
    "        if self.user.deduct_balance(self.total_amount):\n",
    "            print(f\"Order #{self.order_id} placed successfully!\")\n",
    "        else:\n",
    "            print(f\"Order #{self.order_id} failed due to insufficient balance.\")\n",
    "\n",
    "    def display_order(self):\n",
    "        print(f\"\\nOrder ID: {self.order_id}\")\n",
    "        print(f\"User: {self.user.name}\")\n",
    "        print(f\"Total Amount: {self.total_amount}\")\n",
    "        self.cart.display_cart()\n"
   ]
  },
  {
   "cell_type": "markdown",
   "id": "38efe1f4",
   "metadata": {},
   "source": [
    "## Demo Workflow"
   ]
  },
  {
   "cell_type": "code",
   "execution_count": null,
   "id": "e1815a72",
   "metadata": {},
   "outputs": [],
   "source": [
    "\n",
    "# Demo Workflow\n",
    "if __name__ == \"__main__\":\n",
    "    # Create Products\n",
    "    product1 = Product(1, \"Laptop\", 50000, 10)\n",
    "    product2 = Product(2, \"Phone\", 20000, 20)\n",
    "    product3 = Product(3, \"Headphones\", 2000, 50)\n",
    "\n",
    "    # Display Products\n",
    "    print(\"Available Products:\")\n",
    "    product1.display_product()\n",
    "    product2.display_product()\n",
    "    product3.display_product()\n",
    "\n",
    "    # Create a User\n",
    "    user = User(1, \"Rahul\", 100000)\n",
    "\n",
    "    # Create a Cart\n",
    "    cart = Cart()\n",
    "    cart.add_to_cart(product1, 1)  # Add Laptop to cart\n",
    "    cart.add_to_cart(product3, 2)  # Add Headphones to cart\n",
    "\n",
    "    # Display Cart\n",
    "    cart.display_cart()\n",
    "\n",
    "    # Create an Order\n",
    "    order = Order(user, cart)\n",
    "    order.display_order()\n",
    "\n",
    "    # Place Order\n",
    "    order.place_order()\n",
    "\n",
    "    # Display Updated User Balance\n",
    "    print(f\"Remaining Balance: {user.get_balance()}\")\n"
   ]
  }
 ],
 "metadata": {
  "language_info": {
   "name": "python"
  }
 },
 "nbformat": 4,
 "nbformat_minor": 5
}
