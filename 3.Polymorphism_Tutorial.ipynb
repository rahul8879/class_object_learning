{
 "cells": [
  {
   "cell_type": "markdown",
   "id": "5732d58f",
   "metadata": {},
   "source": [
    "# Python Polymorphism Tutorial"
   ]
  },
  {
   "cell_type": "markdown",
   "id": "4ec5359b",
   "metadata": {},
   "source": [
    "## Topics Covered"
   ]
  },
  {
   "cell_type": "markdown",
   "id": "0338d945",
   "metadata": {},
   "source": [
    "\n",
    "1. Method Overloading (using default arguments)\n",
    "2. Method Overriding\n",
    "3. Polymorphism with Inheritance\n",
    "4. `isinstance()` and `issubclass()`\n",
    "\n",
    "---\n",
    "\n",
    "### Practice Questions:\n",
    "1. Create a class `Shape` with a method `area`. Override the method in subclasses `Circle` and `Rectangle` to calculate their areas.\n",
    "2. Write a program demonstrating method overloading for a class `Calculator` to add either two or three numbers.\n"
   ]
  },
  {
   "cell_type": "markdown",
   "id": "bf98d5e8",
   "metadata": {},
   "source": [
    "## Method Overloading (using Default Arguments)"
   ]
  },
  {
   "cell_type": "code",
   "execution_count": null,
   "id": "8490aaa4",
   "metadata": {},
   "outputs": [],
   "source": [
    "\n",
    "# Example: Method Overloading using Default Arguments\n",
    "\n",
    "class Calculator:\n",
    "    def add(self, a, b, c=0):\n",
    "        return a + b + c\n",
    "\n",
    "# Demonstration\n",
    "calc = Calculator()\n",
    "print(calc.add(2, 3))  # Adds two numbers\n",
    "print(calc.add(2, 3, 4))  # Adds three numbers\n"
   ]
  },
  {
   "cell_type": "markdown",
   "id": "37498c6d",
   "metadata": {},
   "source": [
    "## Method Overriding"
   ]
  },
  {
   "cell_type": "code",
   "execution_count": null,
   "id": "ba0c7481",
   "metadata": {},
   "outputs": [],
   "source": [
    "\n",
    "# Example: Method Overriding\n",
    "\n",
    "class Parent:\n",
    "    def show(self):\n",
    "        print(\"Parent's show method\")\n",
    "\n",
    "class Child(Parent):\n",
    "    def show(self):\n",
    "        print(\"Child's overridden show method\")\n",
    "\n",
    "# Demonstration\n",
    "child = Child()\n",
    "child.show()  # Calls the overridden method\n"
   ]
  },
  {
   "cell_type": "markdown",
   "id": "a1c965bb",
   "metadata": {},
   "source": [
    "## Polymorphism with Inheritance"
   ]
  },
  {
   "cell_type": "code",
   "execution_count": null,
   "id": "3e746e55",
   "metadata": {},
   "outputs": [],
   "source": [
    "\n",
    "# Example: Polymorphism with Inheritance\n",
    "\n",
    "class Shape:\n",
    "    def area(self):\n",
    "        pass\n",
    "\n",
    "class Circle(Shape):\n",
    "    def __init__(self, radius):\n",
    "        self.radius = radius\n",
    "\n",
    "    def area(self):\n",
    "        return 3.14 * self.radius ** 2\n",
    "\n",
    "class Rectangle(Shape):\n",
    "    def __init__(self, length, breadth):\n",
    "        self.length = length\n",
    "        self.breadth = breadth\n",
    "\n",
    "    def area(self):\n",
    "        return self.length * self.breadth\n",
    "\n",
    "# Demonstration\n",
    "shapes = [Circle(5), Rectangle(4, 6)]\n",
    "\n",
    "for shape in shapes:\n",
    "    print(f\"Area: {shape.area()}\")\n"
   ]
  },
  {
   "cell_type": "markdown",
   "id": "e617a0cc",
   "metadata": {},
   "source": [
    "## `isinstance()` and `issubclass()`"
   ]
  },
  {
   "cell_type": "code",
   "execution_count": null,
   "id": "c466e9ff",
   "metadata": {},
   "outputs": [],
   "source": [
    "\n",
    "# Example: `isinstance()` and `issubclass()`\n",
    "\n",
    "class Parent:\n",
    "    pass\n",
    "\n",
    "class Child(Parent):\n",
    "    pass\n",
    "\n",
    "# Demonstration\n",
    "child = Child()\n",
    "print(isinstance(child, Child))  # True\n",
    "print(isinstance(child, Parent))  # True\n",
    "print(issubclass(Child, Parent))  # True\n",
    "print(issubclass(Parent, Child))  # False\n"
   ]
  },
  {
   "cell_type": "markdown",
   "id": "253970ee",
   "metadata": {},
   "source": [
    "## Practice Question 1: Shape, Circle, and Rectangle Classes"
   ]
  },
  {
   "cell_type": "code",
   "execution_count": null,
   "id": "fb2136b3",
   "metadata": {},
   "outputs": [],
   "source": [
    "\n",
    "# Practice Question 1\n",
    "\n",
    "class Shape:\n",
    "    def area(self):\n",
    "        raise NotImplementedError(\"Subclasses must override this method\")\n",
    "\n",
    "class Circle(Shape):\n",
    "    def __init__(self, radius):\n",
    "        self.radius = radius\n",
    "\n",
    "    def area(self):\n",
    "        return 3.14 * self.radius ** 2\n",
    "\n",
    "class Rectangle(Shape):\n",
    "    def __init__(self, length, breadth):\n",
    "        self.length = length\n",
    "        self.breadth = breadth\n",
    "\n",
    "    def area(self):\n",
    "        return self.length * self.breadth\n",
    "\n",
    "# Demonstration\n",
    "circle = Circle(7)\n",
    "rectangle = Rectangle(5, 10)\n",
    "\n",
    "print(f\"Circle Area: {circle.area()}\")\n",
    "print(f\"Rectangle Area: {rectangle.area()}\")\n"
   ]
  },
  {
   "cell_type": "markdown",
   "id": "af1a85a5",
   "metadata": {},
   "source": [
    "## Practice Question 2: Calculator Class with Method Overloading"
   ]
  },
  {
   "cell_type": "code",
   "execution_count": null,
   "id": "403f9482",
   "metadata": {},
   "outputs": [],
   "source": [
    "\n",
    "# Practice Question 2\n",
    "\n",
    "class Calculator:\n",
    "    def add(self, a, b, c=0):\n",
    "        return a + b + c\n",
    "\n",
    "# Demonstration\n",
    "calc = Calculator()\n",
    "print(calc.add(10, 20))  # Adds two numbers\n",
    "print(calc.add(10, 20, 30))  # Adds three numbers\n"
   ]
  }
 ],
 "metadata": {},
 "nbformat": 4,
 "nbformat_minor": 5
}
